{
 "cells": [
  {
   "cell_type": "code",
   "execution_count": 14,
   "id": "675003fa",
   "metadata": {},
   "outputs": [
    {
     "name": "stdout",
     "output_type": "stream",
     "text": [
      "464\n"
     ]
    }
   ],
   "source": [
    "count = 0\n",
    "with open ('advent4.txt','r') as f:\n",
    "    for line in f:\n",
    "        line = line.rstrip('\\n')\n",
    "        grps = line.split(',')\n",
    "        first = grps[0].split('-')\n",
    "        second = grps[1].split('-')\n",
    "        if int(first[0])<=int(second[0]) and int(first[1])>= int(second[1]):\n",
    "            count += 1\n",
    "        elif int(second[0])<=int(first[0]) and int(second[1])>= int(first[1]):\n",
    "            count += 1\n",
    "print(count)"
   ]
  },
  {
   "cell_type": "code",
   "execution_count": 16,
   "id": "df6f688e",
   "metadata": {},
   "outputs": [
    {
     "name": "stdout",
     "output_type": "stream",
     "text": [
      "770\n"
     ]
    }
   ],
   "source": [
    "count = 0\n",
    "with open ('advent4.txt','r') as f:\n",
    "    for line in f:\n",
    "        line = line.rstrip('\\n')\n",
    "        grps = line.split(',')\n",
    "        first = grps[0].split('-')\n",
    "        second = grps[1].split('-')\n",
    "        if int(first[0])<=int(second[1]) and int(first[1])>= int(second[0]):\n",
    "            count += 1\n",
    "        elif int(second[0])<=int(first[1]) and int(second[1])>= int(first[0]):\n",
    "            count += 1\n",
    "print(count)"
   ]
  }
 ],
 "metadata": {
  "kernelspec": {
   "display_name": "Python 3 (ipykernel)",
   "language": "python",
   "name": "python3"
  },
  "language_info": {
   "codemirror_mode": {
    "name": "ipython",
    "version": 3
   },
   "file_extension": ".py",
   "mimetype": "text/x-python",
   "name": "python",
   "nbconvert_exporter": "python",
   "pygments_lexer": "ipython3",
   "version": "3.9.4"
  }
 },
 "nbformat": 4,
 "nbformat_minor": 5
}
