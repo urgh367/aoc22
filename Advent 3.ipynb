{
 "cells": [
  {
   "cell_type": "code",
   "execution_count": 9,
   "id": "de93bb7a",
   "metadata": {},
   "outputs": [
    {
     "name": "stdout",
     "output_type": "stream",
     "text": [
      "300\n",
      "8243\n"
     ]
    }
   ],
   "source": [
    "shared = []\n",
    "with open('advent3.txt','r') as f:\n",
    "    for line in f: #each sack\n",
    "        line = line.rstrip('\\n')\n",
    "        size = len(line)\n",
    "        half = size//2\n",
    "        first = list(line[:half])\n",
    "        second = list(line[half:])\n",
    "        found = []\n",
    "        for item in first: #not sure if all sacks only have 1 shared item\n",
    "            \n",
    "            for item2 in second:\n",
    "                if item == item2 and item not in found:\n",
    "                    found.append(item)\n",
    "                    shared.append(item)\n",
    "total = 0\n",
    "print(len(shared))\n",
    "for num in shared:\n",
    "    if num <= 'z' and num >= 'a':\n",
    "        pr = ord(num) - 96\n",
    "    else: #caps\n",
    "        pr = ord(num) - 38\n",
    "    total += pr\n",
    "    \n",
    "print(total)"
   ]
  },
  {
   "cell_type": "code",
   "execution_count": 11,
   "id": "430709ed",
   "metadata": {},
   "outputs": [
    {
     "name": "stdout",
     "output_type": "stream",
     "text": [
      "100\n",
      "2631\n"
     ]
    }
   ],
   "source": [
    "badge = []\n",
    "count = 0\n",
    "\n",
    "with open('advent3.txt','r') as f:\n",
    "    first = []\n",
    "    second = []\n",
    "    third = []\n",
    "    for line in f: #each sack\n",
    "        line = line.rstrip('\\n')\n",
    "        if count == 0:\n",
    "            first = list(line)\n",
    "            count += 1\n",
    "        elif count == 1:\n",
    "            second = list(line)\n",
    "            count += 1\n",
    "        else: #count = 2\n",
    "            third = list(line)\n",
    "            found = []\n",
    "            for item in first:\n",
    "                for item2 in second:\n",
    "                    if item == item2:\n",
    "                        for item3 in third:\n",
    "                            if item3 == item and item3 not in found:\n",
    "                                found.append(item)\n",
    "                                badge.append(item)\n",
    "            count = 0 #return to first\n",
    "            \n",
    "total = 0\n",
    "print(len(badge))\n",
    "for char in badge:\n",
    "    if  char<= 'z' and char >= 'a':\n",
    "        pr = ord(char) - 96\n",
    "    else: #caps\n",
    "        pr = ord(char) - 38\n",
    "    total += pr\n",
    "    \n",
    "print(total)"
   ]
  },
  {
   "cell_type": "code",
   "execution_count": null,
   "id": "1448f003",
   "metadata": {},
   "outputs": [],
   "source": []
  }
 ],
 "metadata": {
  "kernelspec": {
   "display_name": "Python 3 (ipykernel)",
   "language": "python",
   "name": "python3"
  },
  "language_info": {
   "codemirror_mode": {
    "name": "ipython",
    "version": 3
   },
   "file_extension": ".py",
   "mimetype": "text/x-python",
   "name": "python",
   "nbconvert_exporter": "python",
   "pygments_lexer": "ipython3",
   "version": "3.9.4"
  }
 },
 "nbformat": 4,
 "nbformat_minor": 5
}
