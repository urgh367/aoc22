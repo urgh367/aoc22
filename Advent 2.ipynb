{
 "cells": [
  {
   "cell_type": "code",
   "execution_count": 2,
   "id": "6b87795e",
   "metadata": {},
   "outputs": [
    {
     "name": "stdout",
     "output_type": "stream",
     "text": [
      "12679\n"
     ]
    }
   ],
   "source": [
    "#AX rock1 BY paper2 CZ Scissors3\n",
    "total = 0\n",
    "with open('advent2.txt','r') as f:\n",
    "    for line in f:\n",
    "        line = line.rstrip('\\n')\n",
    "        contents = line.split(' ')\n",
    "        opp = contents[0]\n",
    "        you = contents[1]\n",
    "        if opp == 'A':\n",
    "            if you == 'X':\n",
    "                score = 1+3\n",
    "            elif you == 'Y':\n",
    "                score = 2+6\n",
    "            else:\n",
    "                score = 3+0\n",
    "        elif opp == 'B':\n",
    "            if you == 'X':\n",
    "                score = 1+0\n",
    "            elif you == 'Y':\n",
    "                score = 2+3\n",
    "            else:\n",
    "                score = 3+6\n",
    "        else:\n",
    "            if you == 'X':\n",
    "                score = 1+6\n",
    "            elif you == 'Y':\n",
    "                score = 2+0\n",
    "            else:\n",
    "                score = 3+3\n",
    "        total += score\n",
    "print(total)"
   ]
  },
  {
   "cell_type": "code",
   "execution_count": 3,
   "id": "132a23b9",
   "metadata": {},
   "outputs": [
    {
     "name": "stdout",
     "output_type": "stream",
     "text": [
      "14470\n"
     ]
    }
   ],
   "source": [
    "#A rock1 B paper2 C Scissors3\n",
    "#X lose Y draw Z win\n",
    "total = 0\n",
    "with open('advent2.txt','r') as f:\n",
    "    for line in f:\n",
    "        line = line.rstrip('\\n')\n",
    "        contents = line.split(' ')\n",
    "        opp = contents[0]\n",
    "        result = contents[1]\n",
    "        if result == 'X':\n",
    "            if opp == 'A':\n",
    "                score = 3+0\n",
    "            elif opp == 'B':\n",
    "                score = 1+0\n",
    "            else:\n",
    "                score = 2+0\n",
    "        elif result == 'Y':\n",
    "            if opp == 'A':\n",
    "                score = 1+3\n",
    "            elif opp == 'B':\n",
    "                score = 2+3\n",
    "            else:\n",
    "                score = 3+3\n",
    "        else:\n",
    "            if opp == 'A':\n",
    "                score = 2+6\n",
    "            elif opp == 'B':\n",
    "                score = 3+6\n",
    "            else:\n",
    "                score = 1+6\n",
    "        total += score\n",
    "print(total)"
   ]
  },
  {
   "cell_type": "code",
   "execution_count": null,
   "id": "8b3b68c9",
   "metadata": {},
   "outputs": [],
   "source": []
  }
 ],
 "metadata": {
  "kernelspec": {
   "display_name": "Python 3 (ipykernel)",
   "language": "python",
   "name": "python3"
  },
  "language_info": {
   "codemirror_mode": {
    "name": "ipython",
    "version": 3
   },
   "file_extension": ".py",
   "mimetype": "text/x-python",
   "name": "python",
   "nbconvert_exporter": "python",
   "pygments_lexer": "ipython3",
   "version": "3.9.4"
  }
 },
 "nbformat": 4,
 "nbformat_minor": 5
}
